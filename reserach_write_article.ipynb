{
 "cells": [
  {
   "cell_type": "code",
   "execution_count": 5,
   "metadata": {},
   "outputs": [],
   "source": [
    "# Warning control\n",
    "import warnings\n",
    "warnings.filterwarnings('ignore')"
   ]
  },
  {
   "cell_type": "code",
   "execution_count": 6,
   "metadata": {},
   "outputs": [],
   "source": [
    "from crewai import Agent, Task, Crew"
   ]
  },
  {
   "cell_type": "code",
   "execution_count": 7,
   "metadata": {},
   "outputs": [],
   "source": [
    "import os\n",
    "from utils import get_openai_api_key\n",
    "\n",
    "openai_api_key = get_openai_api_key()\n",
    "os.environ[\"OPENAI_MODEL_NAME\"] = 'gpt-3.5-turbo'"
   ]
  },
  {
   "cell_type": "markdown",
   "metadata": {},
   "source": [
    "### CREATING AGENT"
   ]
  },
  {
   "cell_type": "markdown",
   "metadata": {},
   "source": [
    "####  AGENT PLANNER"
   ]
  },
  {
   "cell_type": "code",
   "execution_count": 8,
   "metadata": {},
   "outputs": [],
   "source": [
    "planner = Agent(\n",
    "    role=\"Content Planner\",\n",
    "    goal=\"Plan engaging and factually accurate content on {topic}\",\n",
    "    backstory=\"You're working on planning a blog article \"\n",
    "              \"about the topic: {topic}.\"\n",
    "              \"You collect information that helps the \"\n",
    "              \"audience learn something \"\n",
    "              \"and make informed decisions. \"\n",
    "              \"Your work is the basis for \"\n",
    "              \"the Content Writer to write an article on this topic.\",\n",
    "    allow_delegation=False,\n",
    "\tverbose=True\n",
    ")"
   ]
  },
  {
   "cell_type": "markdown",
   "metadata": {},
   "source": [
    "#### AGENT WRITER"
   ]
  },
  {
   "cell_type": "code",
   "execution_count": 9,
   "metadata": {},
   "outputs": [],
   "source": [
    "writer = Agent(\n",
    "    role=\"Content Writer\",\n",
    "    goal=\"Write insightful and factually accurate \"\n",
    "         \"opinion piece about the topic: {topic}\",\n",
    "    backstory=\"You're working on a writing \"\n",
    "              \"a new opinion piece about the topic: {topic}. \"\n",
    "              \"You base your writing on the work of \"\n",
    "              \"the Content Planner, who provides an outline \"\n",
    "              \"and relevant context about the topic. \"\n",
    "              \"You follow the main objectives and \"\n",
    "              \"direction of the outline, \"\n",
    "              \"as provide by the Content Planner. \"\n",
    "              \"You also provide objective and impartial insights \"\n",
    "              \"and back them up with information \"\n",
    "              \"provide by the Content Planner. \"\n",
    "              \"You acknowledge in your opinion piece \"\n",
    "              \"when your statements are opinions \"\n",
    "              \"as opposed to objective statements.\",\n",
    "    allow_delegation=False,\n",
    "    verbose=True\n",
    ")"
   ]
  },
  {
   "cell_type": "markdown",
   "metadata": {},
   "source": [
    "#### AGENT EDITOR"
   ]
  },
  {
   "cell_type": "code",
   "execution_count": 10,
   "metadata": {},
   "outputs": [],
   "source": [
    "editor = Agent(\n",
    "    role=\"Editor\",\n",
    "    goal=\"Edit a given blog post to align with \"\n",
    "         \"the writing style of the organization. \",\n",
    "    backstory=\"You are an editor who receives a blog post \"\n",
    "              \"from the Content Writer. \"\n",
    "              \"Your goal is to review the blog post \"\n",
    "              \"to ensure that it follows journalistic best practices,\"\n",
    "              \"provides balanced viewpoints \"\n",
    "              \"when providing opinions or assertions, \"\n",
    "              \"and also avoids major controversial topics \"\n",
    "              \"or opinions when possible.\",\n",
    "    allow_delegation=False,\n",
    "    verbose=True\n",
    ")"
   ]
  },
  {
   "cell_type": "markdown",
   "metadata": {},
   "source": [
    "### CREATING TASK"
   ]
  },
  {
   "cell_type": "code",
   "execution_count": 11,
   "metadata": {},
   "outputs": [],
   "source": [
    "plan = Task(\n",
    "    description=(\n",
    "        \"1. Prioritize the latest trends, key players, \"\n",
    "            \"and noteworthy news on {topic}.\\n\"\n",
    "        \"2. Identify the target audience, considering \"\n",
    "            \"their interests and pain points.\\n\"\n",
    "        \"3. Develop a detailed content outline including \"\n",
    "            \"an introduction, key points, and a call to action.\\n\"\n",
    "        \"4. Include SEO keywords and relevant data or sources.\"\n",
    "    ),\n",
    "    expected_output=\"A comprehensive content plan document \"\n",
    "        \"with an outline, audience analysis, \"\n",
    "        \"SEO keywords, and resources.\",\n",
    "    agent=planner,\n",
    ")"
   ]
  },
  {
   "cell_type": "code",
   "execution_count": 12,
   "metadata": {},
   "outputs": [],
   "source": [
    "write = Task(\n",
    "    description=(\n",
    "        \"1. Use the content plan to craft a compelling \"\n",
    "            \"blog post on {topic}.\\n\"\n",
    "        \"2. Incorporate SEO keywords naturally.\\n\"\n",
    "\t\t\"3. Sections/Subtitles are properly named \"\n",
    "            \"in an engaging manner.\\n\"\n",
    "        \"4. Ensure the post is structured with an \"\n",
    "            \"engaging introduction, insightful body, \"\n",
    "            \"and a summarizing conclusion.\\n\"\n",
    "        \"5. Proofread for grammatical errors and \"\n",
    "            \"alignment with the brand's voice.\\n\"\n",
    "    ),\n",
    "    expected_output=\"A well-written blog post \"\n",
    "        \"in markdown format, ready for publication, \"\n",
    "        \"each section should have 2 or 3 paragraphs.\",\n",
    "    agent=writer,\n",
    ")"
   ]
  },
  {
   "cell_type": "code",
   "execution_count": 13,
   "metadata": {},
   "outputs": [],
   "source": [
    "edit = Task(\n",
    "    description=(\"Proofread the given blog post for \"\n",
    "                 \"grammatical errors and \"\n",
    "                 \"alignment with the brand's voice.\"),\n",
    "    expected_output=\"A well-written blog post in markdown format, \"\n",
    "                    \"ready for publication, \"\n",
    "                    \"each section should have 2 or 3 paragraphs.\",\n",
    "    agent=editor\n",
    ")"
   ]
  },
  {
   "cell_type": "markdown",
   "metadata": {},
   "source": [
    "### CREATING CREW"
   ]
  },
  {
   "cell_type": "code",
   "execution_count": 14,
   "metadata": {},
   "outputs": [],
   "source": [
    "crew = Crew(\n",
    "    agents=[planner, writer, editor],\n",
    "    tasks=[plan, write, edit],\n",
    "    verbose=2\n",
    ")"
   ]
  },
  {
   "cell_type": "code",
   "execution_count": null,
   "metadata": {},
   "outputs": [],
   "source": [
    "result = crew.kickoff(inputs={\"topic\": \"AI AGENT\"})"
   ]
  },
  {
   "cell_type": "code",
   "execution_count": 16,
   "metadata": {},
   "outputs": [
    {
     "data": {
      "text/markdown": [
       "# The Rise of AI Agents: Latest Trends, Key Players, and How They Impact You\n",
       "\n",
       "Artificial Intelligence (AI) agents have rapidly gained prominence in various industries, reshaping the way we interact with technology. The latest trends in AI agents encompass a range of advancements, including natural language processing and understanding, personalization and customization, integration with IoT devices, and autonomous decision-making capabilities. These trends are driving innovation and enhancing user experiences across the board.\n",
       "\n",
       "## Latest Trends in AI Agents\n",
       "\n",
       "One of the most notable trends in AI agents is the advancement in natural language processing and understanding. This allows AI agents to interpret and respond to human language in a more natural and intuitive manner. Additionally, AI agents are increasingly focused on personalization and customization, tailoring their responses and recommendations to individual users' preferences and behaviors. Integration with IoT devices is another key trend, enabling AI agents to control and interact with connected devices seamlessly. Moreover, the ability of AI agents to make autonomous decisions based on data analysis and algorithms is a game-changer in various industries, from healthcare to finance.\n",
       "\n",
       "## Key Players in the Industry\n",
       "\n",
       "Several tech giants have emerged as key players in the AI agent industry, leading the way in innovation and adoption. Google Assistant, Amazon Alexa, Apple Siri, and Microsoft Cortana are among the prominent AI agents that have gained widespread popularity and recognition. These AI agents offer a wide range of functionalities, from answering queries and setting reminders to controlling smart home devices and providing personalized recommendations.\n",
       "\n",
       "## How AI Agents Impact You\n",
       "\n",
       "The impact of AI agents on individuals and businesses is profound and multifaceted. AI agents have the potential to improve efficiency and productivity by automating repetitive tasks and streamlining processes. They also enhance user experiences by providing personalized recommendations and intuitive interactions. However, the widespread adoption of AI agents raises concerns about potential job displacement and ethical implications, such as data privacy and algorithmic bias. It is crucial for individuals and organizations to navigate these challenges responsibly and ethically.\n",
       "\n",
       "In conclusion, AI agents are at the forefront of technological innovation, offering a glimpse into the future of human-machine interaction. As AI agents continue to evolve, it is essential for individuals to stay informed and educated on their capabilities and limitations. By leveraging AI agents in personal and professional settings, individuals can enhance their overall experience and productivity. As we embrace the era of AI agents, it is imperative to consider the implications and opportunities that come with this transformative technology.\n",
       "\n",
       "*Call to Action:*\n",
       "Stay informed and educated on the capabilities and limitations of AI agents to leverage their potential in personal and professional settings. Embrace the advancements in AI technology to enhance your overall experience and productivity.\n",
       "\n",
       "Remember, the future is now with AI agents, and it is up to us to make the most of this transformative technology."
      ],
      "text/plain": [
       "<IPython.core.display.Markdown object>"
      ]
     },
     "execution_count": 16,
     "metadata": {},
     "output_type": "execute_result"
    }
   ],
   "source": [
    "from IPython.display import Markdown\n",
    "Markdown(result)"
   ]
  },
  {
   "cell_type": "code",
   "execution_count": null,
   "metadata": {},
   "outputs": [],
   "source": [
    "topic = \"RECENT TRENDS IN AI\"\n",
    "result = crew.kickoff(inputs={\"topic\": topic})"
   ]
  },
  {
   "cell_type": "code",
   "execution_count": 18,
   "metadata": {},
   "outputs": [
    {
     "data": {
      "text/markdown": [
       "# Exploring the Latest Trends in Artificial Intelligence\n",
       "\n",
       "In recent years, artificial intelligence has experienced significant growth and development, revolutionizing various industries and aspects of our daily lives. The latest trends in AI are shaping the future of technology and innovation, with advancements in explainable AI, ethical considerations, automation, healthcare applications, robotics, and autonomous systems.\n",
       "\n",
       "## Latest Trends in AI\n",
       "\n",
       "One of the prominent trends in AI is the rise of explainable AI, which focuses on making AI systems more transparent and understandable to users. This allows for better decision-making and trust in AI-powered solutions. Ethical AI and bias mitigation have also become crucial considerations, ensuring that AI systems are developed and deployed responsibly without perpetuating harmful biases.\n",
       "\n",
       "AI-powered automation in business processes has become increasingly prevalent, streamlining operations and driving efficiency. In healthcare, AI is enabling personalized medicine and improving disease diagnosis through advanced algorithms and data analysis. Additionally, AI is making significant strides in robotics and autonomous systems, enhancing capabilities in areas such as manufacturing, logistics, and transportation.\n",
       "\n",
       "## Key Players in the AI Industry\n",
       "\n",
       "Several key players are at the forefront of AI innovation, including Google DeepMind, OpenAI, IBM Watson, Microsoft AI, and NVIDIA. These companies are driving research, developing cutting-edge technologies, and shaping the future of AI applications across various sectors.\n",
       "\n",
       "## Noteworthy News in AI\n",
       "\n",
       "Recent breakthroughs in AI include GPT-3, a powerful natural language processing model that has garnered widespread attention for its capabilities in generating human-like text. Self-driving cars powered by AI continue to advance, with ongoing developments in autonomous vehicle technology. In finance, AI is revolutionizing predictive analytics and risk management, while in education, AI is enabling personalized learning experiences and adaptive assessments for students.\n",
       "\n",
       "As the field of AI continues to evolve, staying informed on the latest trends and advancements is essential for tech enthusiasts, AI professionals, students, and business leaders looking to leverage AI solutions in their organizations. By subscribing to our newsletter, you can receive regular updates and insights on AI technologies, industry news, and expert opinions, empowering you to stay ahead in the dynamic world of artificial intelligence.\n",
       "\n",
       "In conclusion, the latest trends in artificial intelligence are reshaping the landscape of technology and innovation, with profound implications for society. By keeping abreast of these trends and developments, individuals and organizations can harness the power of AI to drive progress and achieve transformative outcomes in various domains. Stay informed, stay ahead, and embrace the future of AI."
      ],
      "text/plain": [
       "<IPython.core.display.Markdown object>"
      ]
     },
     "execution_count": 18,
     "metadata": {},
     "output_type": "execute_result"
    }
   ],
   "source": [
    "Markdown(result)"
   ]
  },
  {
   "cell_type": "code",
   "execution_count": null,
   "metadata": {},
   "outputs": [],
   "source": []
  }
 ],
 "metadata": {
  "kernelspec": {
   "display_name": "ai_agent",
   "language": "python",
   "name": "python3"
  },
  "language_info": {
   "codemirror_mode": {
    "name": "ipython",
    "version": 3
   },
   "file_extension": ".py",
   "mimetype": "text/x-python",
   "name": "python",
   "nbconvert_exporter": "python",
   "pygments_lexer": "ipython3",
   "version": "3.10.4"
  }
 },
 "nbformat": 4,
 "nbformat_minor": 2
}
